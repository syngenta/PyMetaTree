{
 "cells": [
  {
   "metadata": {},
   "cell_type": "markdown",
   "source": "# Tutorial",
   "id": "6bfa45e9807f9a78"
  },
  {
   "metadata": {},
   "cell_type": "markdown",
   "source": "## Set Up & Data Extraction",
   "id": "bd9da575ae1c83e6"
  },
  {
   "metadata": {},
   "cell_type": "markdown",
   "source": "We start by importing the necessary classes and modules from the PyMetaTree project. We then initialize the `DataHandler` class by providing the desired data storage folder.\n",
   "id": "236f191882af4793"
  },
  {
   "metadata": {},
   "cell_type": "code",
   "source": [
    "from pymetatree.data_handling.data_handler import EawagDataHandler\n",
    "\n",
    "DATA_STORAGE_PATH = 'your_data_storage_path'\n",
    "\n",
    "data_handler = EawagDataHandler(DATA_STORAGE_PATH)"
   ],
   "id": "3ba32e12e11cc211",
   "outputs": [],
   "execution_count": null
  },
  {
   "metadata": {},
   "cell_type": "markdown",
   "source": "The data handler plays several roles. In particular, we can use it to extract data from different sources. We here display how to extract ten reactions from EAWAG's soil database. ",
   "id": "7f2161ad1e407391"
  },
  {
   "metadata": {},
   "cell_type": "code",
   "source": [
    "PACKAGE_NAME = \"eawag_bbd\"\n",
    "data_handler.download_data(PACKAGE_NAME)\n",
    "eawag_data = data_handler.get_data()\n",
    "eawag_data[0].model_dump()"
   ],
   "id": "82bc5955afa02424",
   "outputs": [],
   "execution_count": null
  },
  {
   "metadata": {},
   "cell_type": "markdown",
   "source": [
    "As can be seen above, a chemical reaction object contains several fields:\n",
    "* `dataset`: The origin dataset, i.e., EAWAG_SOIL, ELESVIER, etc. \n",
    "* `description`: A description of the reaction, if provided.\n",
    "* `enzyme_classes`: A list of enzyme classes, if provided.\n",
    "* `mapped_smiles`: The reaction smiles, atom-to-atom mapped. This field is filled after running an external software.\n",
    "* `multistep_flag`: True, if the reaction contains several steps which couldn't be determined. \n",
    "* `name`: The name of the reaction.\n",
    "* `namerxn_reaction_class` and `namerxn_reaction_numbers`: Fields which classify the reaction, filled by an external software.\n",
    "* `pathways`: \n",
    "* `reactants`: List of `Molecule` objects, which represent the individual reactant molecules and contain as fields `name`, `smiles` (unmapped), and `uid`, which is an automatically-computed unique identifier for this molecule.\n",
    "* `products`: See above\n",
    "* `scenarios`: List of experimental conditions, if provided.\n",
    "* `template`: The associated, extracted template (more explanation on this field later in the tutorial).\n",
    "* `uid`: Unique identifier of the chemical reaction.\n",
    "* `unmapped_smiles`: The string provided by the dataset in a raw (unmapped) format.\n",
    "* `unmapped_smiles_cannonicalized`: An automatically-computed field, representing the same reaction in a cannonical format. "
   ],
   "id": "925fa6a25d69e508"
  },
  {
   "metadata": {},
   "cell_type": "markdown",
   "source": "We can then simply save the data by writing the file name and running the following command:",
   "id": "2c3db62e7cebe247"
  },
  {
   "metadata": {},
   "cell_type": "code",
   "source": [
    "file_name = \"eawag_data_bbd.json\"\n",
    "data_handler.save_data(file_name)"
   ],
   "id": "a394d1d1e0e61242",
   "outputs": [],
   "execution_count": null
  },
  {
   "metadata": {},
   "cell_type": "markdown",
   "source": "To load back the data, one can run:",
   "id": "86bbe1b22db7bf9f"
  },
  {
   "metadata": {},
   "cell_type": "code",
   "source": [
    "from pymetatree.data_handling.data_handler import EawagDataHandler\n",
    "\n",
    "data_handler = EawagDataHandler(DATA_STORAGE_PATH)\n",
    "\n",
    "data_handler.load_data([\"eawag_data_soil.json\"])\n",
    "data_handler.eawag_data[0].model_dump()"
   ],
   "id": "a01b3ffa3876b7a4",
   "outputs": [],
   "execution_count": null
  },
  {
   "metadata": {},
   "cell_type": "markdown",
   "source": "Note that the argument of the data loader is a list. The reason being that if more than one file is provided, it will automatically merge the datasets together.",
   "id": "7e36e328fef5271d"
  },
  {
   "metadata": {},
   "cell_type": "markdown",
   "source": "## Dataset Mapping",
   "id": "396c1c1d6eff11a3"
  },
  {
   "metadata": {},
   "cell_type": "markdown",
   "source": "As we can see, the data is saved as a list of `ChemicalReaction` objects. To map the SMILES in the data set, one needs to generate a list which can then be run externally and incorporated back into our system. To do so, we can do the following:",
   "id": "6a17adcd76578868"
  },
  {
   "metadata": {},
   "cell_type": "code",
   "source": [
    "list_to_map = data_handler.get_list_to_map()\n",
    "list_to_map[0]"
   ],
   "id": "4d5809d8826b6c9f",
   "outputs": [],
   "execution_count": null
  },
  {
   "metadata": {},
   "cell_type": "markdown",
   "source": "This will save the list to map:",
   "id": "36de4157fd43281e"
  },
  {
   "metadata": {},
   "cell_type": "code",
   "source": "data_handler.save_list_to_map(\"soil_to_map.json\")",
   "id": "74fa01a6a39725fc",
   "outputs": [],
   "execution_count": null
  },
  {
   "metadata": {},
   "cell_type": "markdown",
   "source": "When the mapping is done, we will now be able to incorporate it back into our original dataset as follow:",
   "id": "dd114281a1476f8a"
  },
  {
   "metadata": {},
   "cell_type": "code",
   "source": [
    "data_handler.append_mapped_list(\"mapped_list.json\")\n",
    "mapped_data = data_handler.get_data()\n",
    "mapped_data[0].model_dump()"
   ],
   "id": "993262638d639dc5",
   "outputs": [],
   "execution_count": null
  },
  {
   "metadata": {},
   "cell_type": "markdown",
   "source": "## Template Extraction",
   "id": "4fe1d2a3dd0686f3"
  },
  {
   "metadata": {},
   "cell_type": "code",
   "source": [
    "from pymetatree.data_handling.data_handler import EawagDataHandler\n",
    "\n",
    "\n",
    "data_handler_2 = EawagDataHandler(DATA_STORAGE_PATH)\n",
    "data_handler_2.load_data([\"eawag_data_for_mapping.json\"])\n",
    "data_handler_2.eawag_data[0].model_dump()"
   ],
   "id": "7fccb4afe06147cc",
   "outputs": [],
   "execution_count": null
  },
  {
   "metadata": {},
   "cell_type": "code",
   "source": "data_handler_2.append_mapped_list(\"eawag_mapped.json\", \"json\")",
   "id": "1e9f01b6dc1bc8de",
   "outputs": [],
   "execution_count": null
  },
  {
   "metadata": {},
   "cell_type": "markdown",
   "source": "In order to extract the templates associated with each reaction, one can simply run the following line of code:",
   "id": "8cc341e8d79b1122"
  },
  {
   "metadata": {},
   "cell_type": "code",
   "source": [
    "data_handler_2.extract_templates()\n",
    "data_with_templates = data_handler_2.get_data()\n",
    "data_with_templates[0].model_dump()"
   ],
   "id": "23e0870a54395537",
   "outputs": [],
   "execution_count": null
  },
  {
   "metadata": {},
   "cell_type": "code",
   "source": [
    "from pymetatree.chemoinformatics.functions import rdrxn_from_string\n",
    "\n",
    "test_template = data_with_templates[5].template.template_fwd_smarts\n",
    "rdrxn_from_string(test_template, 'smarts')"
   ],
   "id": "df35f338b9a6abfa",
   "outputs": [],
   "execution_count": null
  },
  {
   "metadata": {},
   "cell_type": "markdown",
   "source": "## Blueprints",
   "id": "369562821a75a25"
  },
  {
   "metadata": {},
   "cell_type": "code",
   "source": [
    "from pymetatree.blueprint.blueprint_handler import BlueprintHandler\n",
    "\n",
    "reaction_for_bp = data_with_templates[0]\n",
    "bp = BlueprintHandler(chemical_reaction=reaction_for_bp)"
   ],
   "id": "8634795362da77d4",
   "outputs": [],
   "execution_count": null
  },
  {
   "metadata": {},
   "cell_type": "code",
   "source": "bp.blueprint.model_dump()",
   "id": "f88fff6aa6d917f0",
   "outputs": [],
   "execution_count": null
  },
  {
   "metadata": {},
   "cell_type": "code",
   "source": [
    "from rdkit import Chem\n",
    "\n",
    "Chem.MolFromSmiles(reaction_for_bp.reactants[0].smiles)"
   ],
   "id": "b48fc9ee0a9082df",
   "outputs": [],
   "execution_count": null
  },
  {
   "metadata": {},
   "cell_type": "code",
   "source": [
    "bp.activate_template(0, 'forward')\n",
    "bp._rdrxn"
   ],
   "id": "2a2ed31ed867d9d6",
   "outputs": [],
   "execution_count": null
  },
  {
   "metadata": {},
   "cell_type": "code",
   "source": "bp.run_reaction(0, 'backward', [reaction_for_bp.products[0].smiles])",
   "id": "439fff81624c8645",
   "outputs": [],
   "execution_count": null
  },
  {
   "metadata": {},
   "cell_type": "markdown",
   "source": "# Substructure Search",
   "id": "a99c23b9ce1fa91e"
  },
  {
   "metadata": {
    "jupyter": {
     "is_executing": true
    }
   },
   "cell_type": "code",
   "source": [
    "from pymetatree.data_handling.data_handler import EawagDataHandler\n",
    "\n",
    "data_handler_bp = EawagDataHandler(DATA_STORAGE_PATH)\n",
    "data_handler_bp.load_data(['data_with_templates.json'])\n",
    "data_handler_bp.eawag_data[0].model_dump()"
   ],
   "id": "ca302ab49f41a80b",
   "outputs": [],
   "execution_count": null
  },
  {
   "metadata": {
    "jupyter": {
     "is_executing": true
    }
   },
   "cell_type": "code",
   "source": [
    "data_handler_bp.generate_blueprints()\n",
    "data_handler_bp.blueprints[0]"
   ],
   "id": "c4332276e5f5b003",
   "outputs": [],
   "execution_count": null
  },
  {
   "metadata": {
    "jupyter": {
     "is_executing": true
    }
   },
   "cell_type": "code",
   "source": [
    "from pymetatree.blueprint.substructure_search import BlueprintSubstructureSearch\n",
    "\n",
    "sub_search = BlueprintSubstructureSearch(data_handler_bp.blueprints)"
   ],
   "id": "668fbb80d8628cc8",
   "outputs": [],
   "execution_count": null
  },
  {
   "metadata": {
    "jupyter": {
     "is_executing": true
    }
   },
   "cell_type": "code",
   "source": [
    "# search common substructures to acetone\n",
    "sub_search.search('CC(=O)C')"
   ],
   "id": "80260625b827afe7",
   "outputs": [],
   "execution_count": null
  }
 ],
 "metadata": {
  "kernelspec": {
   "display_name": "Python 3",
   "language": "python",
   "name": "python3"
  },
  "language_info": {
   "codemirror_mode": {
    "name": "ipython",
    "version": 2
   },
   "file_extension": ".py",
   "mimetype": "text/x-python",
   "name": "python",
   "nbconvert_exporter": "python",
   "pygments_lexer": "ipython2",
   "version": "2.7.6"
  }
 },
 "nbformat": 4,
 "nbformat_minor": 5
}
